{
 "cells": [
  {
   "cell_type": "code",
   "execution_count": 1,
   "id": "85f6ecbd",
   "metadata": {},
   "outputs": [],
   "source": [
    "%matplotlib inline\n",
    "import matplotlib.pyplot as plt\n",
    "\n",
    "import jax.numpy as jnp \n",
    "from jax import random, jit\n"
   ]
  },
  {
   "cell_type": "markdown",
   "id": "2553b708",
   "metadata": {},
   "source": [
    "# Bayesian Neural Network\n",
    "\n",
    "- Use an SGLD kernel and compute the accuracy on the test dataset while training\n",
    "- MNIST dataset"
   ]
  },
  {
   "cell_type": "code",
   "execution_count": 2,
   "id": "fa670e8b",
   "metadata": {},
   "outputs": [
    {
     "name": "stderr",
     "output_type": "stream",
     "text": [
      "WARNING:absl:No GPU/TPU found, falling back to CPU. (Set TF_CPP_MIN_LOG_LEVEL=0 and rerun for more info.)\n"
     ]
    }
   ],
   "source": [
    "from sgmcmcjax.models.bayesian_NN.NN_data import X_train, X_test, y_train, y_test\n",
    "from sgmcmcjax.models.bayesian_NN.NN_model import init_network, loglikelihood, logprior, accuracy\n",
    "\n",
    "from sgmcmcjax.kernels import build_sgld_kernel\n",
    "from tqdm.auto import tqdm\n",
    "\n",
    "batch_size = int(0.01*X_train.shape[0])\n",
    "data = (X_train, y_train)\n",
    "\n",
    "init_fn, my_kernel, get_params = build_sgld_kernel(5e-5, loglikelihood, logprior, data, batch_size)\n",
    "\n",
    "my_kernel = jit(my_kernel)"
   ]
  },
  {
   "cell_type": "code",
   "execution_count": 3,
   "id": "cd0a9011",
   "metadata": {},
   "outputs": [],
   "source": [
    "# define the inital state\n",
    "key = random.PRNGKey(10)\n",
    "key, subkey1, subkey2 = random.split(key,3)\n",
    "sizes = [784, 100, 10]\n",
    "params_IC = init_network(subkey1, sizes)\n",
    "state = init_fn(subkey2, params_IC)"
   ]
  },
  {
   "cell_type": "code",
   "execution_count": 4,
   "id": "afbb38dd",
   "metadata": {},
   "outputs": [
    {
     "data": {
      "application/vnd.jupyter.widget-view+json": {
       "model_id": "ff3de410bd6144218c6479861a9ccc6e",
       "version_major": 2,
       "version_minor": 0
      },
      "text/plain": [
       "  0%|          | 0/2000 [00:00<?, ?it/s]"
      ]
     },
     "metadata": {},
     "output_type": "display_data"
    },
    {
     "name": "stdout",
     "output_type": "stream",
     "text": [
      "CPU times: user 28.3 s, sys: 2.77 s, total: 31.1 s\n",
      "Wall time: 13.1 s\n"
     ]
    }
   ],
   "source": [
    "%%time\n",
    "\n",
    "Nsamples = 2000\n",
    "samples = []\n",
    "accuracy_list = []\n",
    "\n",
    "for i in tqdm(range(Nsamples)):\n",
    "    key, subkey = random.split(key)\n",
    "    state = my_kernel(i, subkey, state)\n",
    "    samples.append(get_params(state))\n",
    "    if i%10==0:\n",
    "        accuracy_list.append(accuracy(get_params(state), X_test, y_test))\n",
    "    \n"
   ]
  },
  {
   "cell_type": "code",
   "execution_count": 5,
   "id": "0f609176",
   "metadata": {},
   "outputs": [
    {
     "name": "stdout",
     "output_type": "stream",
     "text": [
      "Final accuracy: 92.1%\n"
     ]
    },
    {
     "data": {
      "image/png": "[encoded data removed]",
      "text/plain": [
       "<Figure size 432x288 with 1 Axes>"
      ]
     },
     "metadata": {
      "needs_background": "light"
     },
     "output_type": "display_data"
    }
   ],
   "source": [
    "plt.plot(accuracy_list[:])\n",
    "\n",
    "print(f\"Final accuracy: {100*accuracy_list[-8]:.1f}%\")"
   ]
  }
 ],
 "metadata": {
  "kernelspec": {
   "display_name": "Python 3 (ipykernel)",
   "language": "python",
   "name": "python3"
  },
  "language_info": {
   "codemirror_mode": {
    "name": "ipython",
    "version": 3
   },
   "file_extension": ".py",
   "mimetype": "text/x-python",
   "name": "python",
   "nbconvert_exporter": "python",
   "pygments_lexer": "ipython3",
   "version": "3.8.2"
  }
 },
 "nbformat": 4,
 "nbformat_minor": 5
}
