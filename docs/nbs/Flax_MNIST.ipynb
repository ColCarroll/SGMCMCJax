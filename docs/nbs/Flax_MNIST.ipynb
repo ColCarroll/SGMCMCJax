{
 "cells": [
  {
   "cell_type": "code",
   "execution_count": 1,
   "id": "083ed190",
   "metadata": {},
   "outputs": [],
   "source": [
    "%matplotlib inline\n",
    "\n",
    "import matplotlib.pyplot as plt\n",
    "\n",
    "import jax.numpy as jnp\n",
    "import jax\n",
    "from jax import random, jit\n",
    "\n",
    "from tqdm.auto import tqdm\n",
    "from sgmcmcjax.kernels import build_sgld_kernel, build_psgld_kernel, build_sgldAdam_kernel\n",
    "\n",
    "import tensorflow_datasets as tfds\n",
    "\n",
    "from flax import linen as nn"
   ]
  },
  {
   "cell_type": "markdown",
   "id": "50e94adb",
   "metadata": {},
   "source": [
    "# Flax CNN"
   ]
  },
  {
   "cell_type": "code",
   "execution_count": 2,
   "id": "8f67db4e",
   "metadata": {},
   "outputs": [],
   "source": [
    "class CNN(nn.Module):\n",
    "    \"\"\"A simple CNN model.\"\"\"\n",
    "\n",
    "    @nn.compact\n",
    "    def __call__(self, x):\n",
    "        x = nn.Conv(features=32, kernel_size=(3, 3))(x)\n",
    "        x = nn.relu(x)\n",
    "        x = nn.avg_pool(x, window_shape=(2, 2), strides=(2, 2))\n",
    "        x = nn.Conv(features=64, kernel_size=(3, 3))(x)\n",
    "        x = nn.relu(x)\n",
    "        x = nn.avg_pool(x, window_shape=(2, 2), strides=(2, 2))\n",
    "        x = x.reshape((x.shape[0], -1))  # flatten\n",
    "        x = nn.Dense(features=256)(x)\n",
    "        x = nn.relu(x)\n",
    "        x = nn.Dense(features=10)(x)\n",
    "        x = nn.log_softmax(x)\n",
    "        return x\n"
   ]
  },
  {
   "cell_type": "code",
   "execution_count": 3,
   "id": "b4b54831",
   "metadata": {},
   "outputs": [
    {
     "name": "stderr",
     "output_type": "stream",
     "text": [
      "WARNING:absl:No GPU/TPU found, falling back to CPU. (Set TF_CPP_MIN_LOG_LEVEL=0 and rerun for more info.)\n"
     ]
    }
   ],
   "source": [
    "cnn = CNN()\n",
    "\n",
    "def loglikelihood(params, x, y):\n",
    "    x = x[jnp.newaxis] # add an axis so that it works for a single data point\n",
    "    logits = cnn.apply({'params':(params)}, x)\n",
    "    label = jax.nn.one_hot(y, num_classes=10)\n",
    "    return jnp.sum(logits*label) \n",
    "\n",
    "def logprior(params):\n",
    "    return 1.\n",
    "\n",
    "@jit\n",
    "def accuracy_cnn(params, X, y):\n",
    "    target_class = y\n",
    "    predicted_class = jnp.argmax(cnn.apply({'params':(params)}, X), axis=1)\n",
    "    return jnp.mean(predicted_class == target_class)\n",
    "\n",
    "\n",
    "def get_datasets():\n",
    "    \"\"\"Load MNIST train and test datasets into memory.\"\"\"\n",
    "    ds_builder = tfds.builder('mnist')\n",
    "    ds_builder.download_and_prepare()\n",
    "    train_ds = tfds.as_numpy(ds_builder.as_dataset(split='train', batch_size=-1))\n",
    "    test_ds = tfds.as_numpy(ds_builder.as_dataset(split='test', batch_size=-1))\n",
    "    train_ds['image'] = jnp.float32(train_ds['image']) / 255.\n",
    "    test_ds['image'] = jnp.float32(test_ds['image']) / 255.\n",
    "    return train_ds, test_ds\n",
    "\n",
    "\n",
    "train_ds, test_ds = get_datasets()\n",
    "\n",
    "X_train_s = train_ds['image']\n",
    "y_train_s = jnp.array(train_ds['label'])\n",
    "X_test_s = test_ds['image']\n",
    "y_test_s = jnp.array(test_ds['label'])\n",
    "\n",
    "\n",
    "data = (X_train_s, y_train_s)\n",
    "batch_size = int(0.01*data[0].shape[0])"
   ]
  },
  {
   "cell_type": "code",
   "execution_count": 5,
   "id": "de74d70b",
   "metadata": {},
   "outputs": [],
   "source": [
    "def run_sgmcmc(key, Nsamples, init_fn, my_kernel, get_params):\n",
    "    \"Run SGMCMC sampler and return the test accuracy list\"\n",
    "    accuracy_list = []\n",
    "    params = cnn.init(key, jnp.ones([1,28,28,1]))['params']\n",
    "    state = init_fn(params)\n",
    "\n",
    "    for i in tqdm(range(Nsamples)):\n",
    "        key, subkey = random.split(key)\n",
    "        state = my_kernel(i, subkey, state)\n",
    "        if i%100==0:\n",
    "            accuracy_list.append(accuracy_cnn(get_params(state), X_test_s, y_test_s))\n",
    "            \n",
    "    return accuracy_list"
   ]
  },
  {
   "cell_type": "markdown",
   "id": "56d15f93",
   "metadata": {},
   "source": [
    "### SGLD"
   ]
  },
  {
   "cell_type": "code",
   "execution_count": 14,
   "id": "d9b33e7c",
   "metadata": {},
   "outputs": [
    {
     "data": {
      "application/vnd.jupyter.widget-view+json": {
       "model_id": "64910d3f6b6e4baaaa9aa0a0d52b8b58",
       "version_major": 2,
       "version_minor": 0
      },
      "text/plain": [
       "  0%|          | 0/2000 [00:00<?, ?it/s]"
      ]
     },
     "metadata": {},
     "output_type": "display_data"
    }
   ],
   "source": [
    "init_fn, sgld_kernel, get_params = build_sgld_kernel(5e-6, loglikelihood, logprior, data, batch_size)\n",
    "\n",
    "Nsamples = 2000\n",
    "accuracy_list_sgld = run_sgmcmc(random.PRNGKey(0), Nsamples, init_fn, sgld_kernel, get_params)"
   ]
  },
  {
   "cell_type": "markdown",
   "id": "6ad78043",
   "metadata": {},
   "source": [
    "### pSGLD"
   ]
  },
  {
   "cell_type": "code",
   "execution_count": null,
   "id": "77293a4c",
   "metadata": {},
   "outputs": [
    {
     "data": {
      "application/vnd.jupyter.widget-view+json": {
       "model_id": "70efbab8de904ac681b5f93f6643a373",
       "version_major": 2,
       "version_minor": 0
      },
      "text/plain": [
       "  0%|          | 0/2000 [00:00<?, ?it/s]"
      ]
     },
     "metadata": {},
     "output_type": "display_data"
    }
   ],
   "source": [
    "init_fn, psgld_kernel, get_params = build_psgld_kernel(1e-3, loglikelihood, logprior, data, batch_size)\n",
    "\n",
    "Nsamples = 2000\n",
    "accuracy_list_psgld = run_sgmcmc(random.PRNGKey(0), Nsamples, init_fn, psgld_kernel, get_params)"
   ]
  },
  {
   "cell_type": "code",
   "execution_count": null,
   "id": "c9250300",
   "metadata": {},
   "outputs": [],
   "source": []
  },
  {
   "cell_type": "code",
   "execution_count": null,
   "id": "2ebd478d",
   "metadata": {},
   "outputs": [],
   "source": []
  },
  {
   "cell_type": "code",
   "execution_count": null,
   "id": "42ca3e61",
   "metadata": {},
   "outputs": [],
   "source": []
  },
  {
   "cell_type": "markdown",
   "id": "9b0552d2",
   "metadata": {},
   "source": [
    "### BADODAB"
   ]
  },
  {
   "cell_type": "code",
   "execution_count": null,
   "id": "866cb5a9",
   "metadata": {},
   "outputs": [],
   "source": [
    "init_fn, psgld_kernel, get_params = build_badodab_kernel(1e-3, loglikelihood, logprior, data, batch_size)\n",
    "\n",
    "Nsamples = 2000\n",
    "accuracy_list_badodab = run_sgmcmc(random.PRNGKey(0), Nsamples, init_fn, psgld_kernel, get_params)"
   ]
  },
  {
   "cell_type": "code",
   "execution_count": null,
   "id": "3391adf1",
   "metadata": {},
   "outputs": [],
   "source": []
  },
  {
   "cell_type": "code",
   "execution_count": null,
   "id": "e1da2fc6",
   "metadata": {},
   "outputs": [],
   "source": []
  },
  {
   "cell_type": "code",
   "execution_count": null,
   "id": "d457feba",
   "metadata": {},
   "outputs": [],
   "source": []
  },
  {
   "cell_type": "code",
   "execution_count": null,
   "id": "1416d63e",
   "metadata": {},
   "outputs": [],
   "source": [
    "\n",
    "plt.plot(accuracy_list_psgld, label=\"pSGLD\") # 1e-3\n",
    "plt.plot(accuracy_list_sgld, label=\"SGLD\") # 5e-6\n",
    "# plt.plot(accuracy_list_badodab, label=\"SGLD\") # 1e-3\n",
    "\n",
    "plt.legend()\n",
    "\n",
    "print(f\"sgld: {100*accuracy_list_sgld[-1]:.1f}%\")\n",
    "print(f\"psgld: {100*accuracy_list_psgld[-1]:.1f}%\")\n",
    "# print(f\"badodab: {100*accuracy_list_badodab[-1:]:.1f}%\")"
   ]
  },
  {
   "cell_type": "code",
   "execution_count": null,
   "id": "1b9abb5f",
   "metadata": {},
   "outputs": [],
   "source": []
  },
  {
   "cell_type": "code",
   "execution_count": null,
   "id": "476facf9",
   "metadata": {},
   "outputs": [],
   "source": []
  },
  {
   "cell_type": "code",
   "execution_count": null,
   "id": "179fd44f",
   "metadata": {},
   "outputs": [],
   "source": []
  },
  {
   "cell_type": "code",
   "execution_count": 58,
   "id": "89c2cec2",
   "metadata": {},
   "outputs": [
    {
     "name": "stdout",
     "output_type": "stream",
     "text": [
      "[DeviceArray(0.96879995, dtype=float32)]\n"
     ]
    },
    {
     "data": {
      "image/png": "[encoded data removed]",
      "text/plain": [
       "<Figure size 432x288 with 1 Axes>"
      ]
     },
     "metadata": {
      "needs_background": "light"
     },
     "output_type": "display_data"
    }
   ],
   "source": [
    "# 1e-3\n",
    "plt.plot(accuracy_list_psgld)\n",
    "\n",
    "print(accuracy_list_psgld[-1:])"
   ]
  },
  {
   "cell_type": "code",
   "execution_count": null,
   "id": "7b1abfa4",
   "metadata": {},
   "outputs": [],
   "source": []
  },
  {
   "cell_type": "code",
   "execution_count": null,
   "id": "7a44e847",
   "metadata": {},
   "outputs": [],
   "source": []
  },
  {
   "cell_type": "markdown",
   "id": "c6811763",
   "metadata": {},
   "source": [
    "### optimiser"
   ]
  },
  {
   "cell_type": "code",
   "execution_count": 5,
   "id": "b14b6a12",
   "metadata": {},
   "outputs": [],
   "source": [
    "from jax.experimental.optimizers import adam\n",
    "# from sgmcmcjax.diffusions import sgld\n",
    "from sgmcmcjax.util import build_grad_log_post\n",
    "# from sgmcmcjax.gradient_estimation import build_gradient_estimation_fn"
   ]
  },
  {
   "cell_type": "code",
   "execution_count": 11,
   "id": "a48d2316",
   "metadata": {},
   "outputs": [
    {
     "data": {
      "text/plain": [
       "<function jax.experimental.optimizers.adam.<locals>.update(i, g, state)>"
      ]
     },
     "execution_count": 11,
     "metadata": {},
     "output_type": "execute_result"
    }
   ],
   "source": [
    "update"
   ]
  },
  {
   "cell_type": "code",
   "execution_count": 42,
   "id": "d4f5f6d8",
   "metadata": {},
   "outputs": [
    {
     "data": {
      "application/vnd.jupyter.widget-view+json": {
       "model_id": "e5f590a80d434666a8306c03d6b86c42",
       "version_major": 2,
       "version_minor": 0
      },
      "text/plain": [
       "  0%|          | 0/5000 [00:00<?, ?it/s]"
      ]
     },
     "metadata": {},
     "output_type": "display_data"
    }
   ],
   "source": [
    "grad_log_post = build_grad_log_post(loglikelihood, logprior, data)\n",
    "\n",
    "def pot_fn(p, x, y):\n",
    "    return jax.tree_util.tree_map(lambda t:-t, grad_log_post(p,x,y))\n",
    "\n",
    "init_fn, update, get_params = adam(1e-3)\n",
    "\n",
    "Niters = 5000\n",
    "\n",
    "N_data = data[0].shape[0]\n",
    "key = random.PRNGKey(0)\n",
    "\n",
    "accuracy_list = []\n",
    "batch_size = int(0.001*N_data)\n",
    "params = cnn.init(key, jnp.ones([1,28,28,1]))['params']\n",
    "state = init_fn(params)\n",
    "\n",
    "@jit\n",
    "def update_adam(key, i, state):\n",
    "    key, subkey = random.split(key)\n",
    "    idx_batch = random.choice(key=subkey, a=jnp.arange(N_data), shape=(batch_size,))\n",
    "    minibatch_data = tuple([elem[idx_batch] for elem in data])\n",
    "    mygrad = pot_fn(get_params(state), *minibatch_data)\n",
    "    state = update(i, mygrad, state)\n",
    "    return key, state\n",
    "    \n",
    "for i in tqdm(range(Niters)):\n",
    "    key, state = update_adam(key, i, state)\n",
    "    if i%500==0:\n",
    "        accuracy_list.append(accuracy_cnn(get_params(state), X_test_s, y_test_s))"
   ]
  },
  {
   "cell_type": "code",
   "execution_count": 45,
   "id": "1ced8d09",
   "metadata": {},
   "outputs": [
    {
     "name": "stdout",
     "output_type": "stream",
     "text": [
      "99.13\n"
     ]
    },
    {
     "data": {
      "image/png": "[encoded data removed]",
      "text/plain": [
       "<Figure size 432x288 with 1 Axes>"
      ]
     },
     "metadata": {
      "needs_background": "light"
     },
     "output_type": "display_data"
    }
   ],
   "source": [
    "# adam, 1e-3\n",
    "plt.plot(accuracy_list)\n",
    "\n",
    "print(accuracy_list[-1]*100)"
   ]
  },
  {
   "cell_type": "code",
   "execution_count": null,
   "id": "f5591780",
   "metadata": {},
   "outputs": [],
   "source": [
    "# grad_log_post(params, *data)"
   ]
  },
  {
   "cell_type": "code",
   "execution_count": null,
   "id": "c05ed914",
   "metadata": {},
   "outputs": [],
   "source": []
  },
  {
   "cell_type": "code",
   "execution_count": null,
   "id": "c6bdd538",
   "metadata": {},
   "outputs": [],
   "source": []
  },
  {
   "cell_type": "code",
   "execution_count": null,
   "id": "206d3c68",
   "metadata": {},
   "outputs": [],
   "source": []
  },
  {
   "cell_type": "code",
   "execution_count": null,
   "id": "635fd6a7",
   "metadata": {},
   "outputs": [],
   "source": []
  }
 ],
 "metadata": {
  "kernelspec": {
   "display_name": "Python 3",
   "language": "python",
   "name": "python3"
  },
  "language_info": {
   "codemirror_mode": {
    "name": "ipython",
    "version": 3
   },
   "file_extension": ".py",
   "mimetype": "text/x-python",
   "name": "python",
   "nbconvert_exporter": "python",
   "pygments_lexer": "ipython3",
   "version": "3.8.2"
  }
 },
 "nbformat": 4,
 "nbformat_minor": 5
}
