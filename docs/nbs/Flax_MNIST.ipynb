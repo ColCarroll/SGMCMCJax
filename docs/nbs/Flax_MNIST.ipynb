{
 "cells": [
  {
   "cell_type": "code",
   "execution_count": 1,
   "id": "2fbfe211",
   "metadata": {},
   "outputs": [],
   "source": [
    "%matplotlib inline\n",
    "\n",
    "import matplotlib.pyplot as plt\n",
    "\n",
    "import jax.numpy as jnp\n",
    "import jax\n",
    "from jax import random, jit\n",
    "\n",
    "from tqdm.auto import tqdm\n",
    "from sgmcmcjax.kernels import build_sgld_kernel, build_psgld_kernel, build_sgldAdam_kernel\n",
    "\n",
    "import tensorflow_datasets as tfds\n",
    "\n",
    "from flax import linen as nn"
   ]
  },
  {
   "cell_type": "markdown",
   "id": "b9a039dd",
   "metadata": {},
   "source": [
    "# Flax CNN"
   ]
  },
  {
   "cell_type": "code",
   "execution_count": 2,
   "id": "8f67db4e",
   "metadata": {},
   "outputs": [],
   "source": [
    "class CNN(nn.Module):\n",
    "    \"\"\"A simple CNN model.\"\"\"\n",
    "\n",
    "    @nn.compact\n",
    "    def __call__(self, x):\n",
    "        x = nn.Conv(features=32, kernel_size=(3, 3))(x)\n",
    "        x = nn.relu(x)\n",
    "        x = nn.avg_pool(x, window_shape=(2, 2), strides=(2, 2))\n",
    "        x = nn.Conv(features=64, kernel_size=(3, 3))(x)\n",
    "        x = nn.relu(x)\n",
    "        x = nn.avg_pool(x, window_shape=(2, 2), strides=(2, 2))\n",
    "        x = x.reshape((x.shape[0], -1))  # flatten\n",
    "        x = nn.Dense(features=256)(x)\n",
    "        x = nn.relu(x)\n",
    "        x = nn.Dense(features=10)(x)\n",
    "        x = nn.log_softmax(x)\n",
    "        return x\n"
   ]
  },
  {
   "cell_type": "code",
   "execution_count": 3,
   "id": "b4b54831",
   "metadata": {},
   "outputs": [
    {
     "name": "stderr",
     "output_type": "stream",
     "text": [
      "WARNING:absl:No GPU/TPU found, falling back to CPU. (Set TF_CPP_MIN_LOG_LEVEL=0 and rerun for more info.)\n"
     ]
    }
   ],
   "source": [
    "cnn = CNN()\n",
    "\n",
    "def loglikelihood(params, x, y):\n",
    "    x = x[jnp.newaxis] # add an axis so that it works for a single data point\n",
    "    logits = cnn.apply({'params':(params)}, x)\n",
    "    label = jax.nn.one_hot(y, num_classes=10)\n",
    "    return jnp.sum(logits*label) \n",
    "\n",
    "def logprior(params):\n",
    "    return 1.\n",
    "\n",
    "@jit\n",
    "def accuracy_cnn(params, X, y):\n",
    "    target_class = y\n",
    "    predicted_class = jnp.argmax(cnn.apply({'params':(params)}, X), axis=1)\n",
    "    return jnp.mean(predicted_class == target_class)\n",
    "\n",
    "\n",
    "def get_datasets():\n",
    "    \"\"\"Load MNIST train and test datasets into memory.\"\"\"\n",
    "    ds_builder = tfds.builder('mnist')\n",
    "    ds_builder.download_and_prepare()\n",
    "    train_ds = tfds.as_numpy(ds_builder.as_dataset(split='train', batch_size=-1))\n",
    "    test_ds = tfds.as_numpy(ds_builder.as_dataset(split='test', batch_size=-1))\n",
    "    train_ds['image'] = jnp.float32(train_ds['image']) / 255.\n",
    "    test_ds['image'] = jnp.float32(test_ds['image']) / 255.\n",
    "    return train_ds, test_ds\n",
    "\n",
    "\n",
    "train_ds, test_ds = get_datasets()\n",
    "\n",
    "X_train_s = train_ds['image']\n",
    "y_train_s = jnp.array(train_ds['label'])\n",
    "X_test_s = test_ds['image']\n",
    "y_test_s = jnp.array(test_ds['label'])\n",
    "\n",
    "\n",
    "data = (X_train_s, y_train_s)\n",
    "batch_size = int(0.01*data[0].shape[0])"
   ]
  },
  {
   "cell_type": "code",
   "execution_count": 4,
   "id": "dfda95da",
   "metadata": {},
   "outputs": [],
   "source": [
    "def run_sgmcmc(key, Nsamples, init_fn, my_kernel, get_params):\n",
    "    \"Run SGMCMC sampler and return the test accuracy list\"\n",
    "    accuracy_list = []\n",
    "    params = cnn.init(key, jnp.ones([1,28,28,1]))['params']\n",
    "    state = init_fn(params)\n",
    "\n",
    "    for i in tqdm(range(Nsamples)):\n",
    "        key, subkey = random.split(key)\n",
    "        state = my_kernel(i, subkey, state)\n",
    "        if i%100==0:\n",
    "            accuracy_list.append(accuracy_cnn(get_params(state), X_test_s, y_test_s))\n",
    "            \n",
    "    return accuracy_list"
   ]
  },
  {
   "cell_type": "markdown",
   "id": "cc6dc37f",
   "metadata": {},
   "source": [
    "### SGLD"
   ]
  },
  {
   "cell_type": "code",
   "execution_count": 5,
   "id": "1d45f1fc",
   "metadata": {},
   "outputs": [
    {
     "data": {
      "application/vnd.jupyter.widget-view+json": {
       "model_id": "3538f6ab48054cddb637d4b2b8c32588",
       "version_major": 2,
       "version_minor": 0
      },
      "text/plain": [
       "  0%|          | 0/2000 [00:00<?, ?it/s]"
      ]
     },
     "metadata": {},
     "output_type": "display_data"
    }
   ],
   "source": [
    "init_fn, sgld_kernel, get_params = build_sgld_kernel(5e-6, loglikelihood, logprior, data, batch_size)\n",
    "\n",
    "Nsamples = 2000\n",
    "accuracy_list_sgld = run_sgmcmc(random.PRNGKey(0), Nsamples, init_fn, sgld_kernel, get_params)"
   ]
  },
  {
   "cell_type": "markdown",
   "id": "f70303a1",
   "metadata": {},
   "source": [
    "### pSGLD"
   ]
  },
  {
   "cell_type": "code",
   "execution_count": 6,
   "id": "3ec03ba5",
   "metadata": {},
   "outputs": [
    {
     "data": {
      "application/vnd.jupyter.widget-view+json": {
       "model_id": "dcf999a851634205b754c3e469d5e07f",
       "version_major": 2,
       "version_minor": 0
      },
      "text/plain": [
       "  0%|          | 0/2000 [00:00<?, ?it/s]"
      ]
     },
     "metadata": {},
     "output_type": "display_data"
    }
   ],
   "source": [
    "init_fn, psgld_kernel, get_params = build_psgld_kernel(1e-3, loglikelihood, logprior, data, batch_size)\n",
    "\n",
    "Nsamples = 2000\n",
    "accuracy_list_psgld = run_sgmcmc(random.PRNGKey(0), Nsamples, init_fn, psgld_kernel, get_params)"
   ]
  },
  {
   "cell_type": "markdown",
   "id": "90f16ff8",
   "metadata": {},
   "source": [
    "### sgldAdam"
   ]
  },
  {
   "cell_type": "code",
   "execution_count": 7,
   "id": "323fb586",
   "metadata": {},
   "outputs": [
    {
     "data": {
      "application/vnd.jupyter.widget-view+json": {
       "model_id": "9e3fb83e4bd44e07ab044ee4f868d1a2",
       "version_major": 2,
       "version_minor": 0
      },
      "text/plain": [
       "  0%|          | 0/2000 [00:00<?, ?it/s]"
      ]
     },
     "metadata": {},
     "output_type": "display_data"
    }
   ],
   "source": [
    "init_fn, sgldAdam_kernel, get_params = build_sgldAdam_kernel(1e-2, loglikelihood, logprior, data, batch_size)\n",
    "\n",
    "Nsamples = 2000\n",
    "accuracy_list_sgldAdam = run_sgmcmc(random.PRNGKey(0), Nsamples, init_fn, sgldAdam_kernel, get_params)"
   ]
  },
  {
   "cell_type": "code",
   "execution_count": 9,
   "id": "009655d2",
   "metadata": {},
   "outputs": [
    {
     "name": "stdout",
     "output_type": "stream",
     "text": [
      "sgld: 98.1%\n",
      "psgld: 96.9%\n",
      "sgldAdam: 92.5%\n"
     ]
    },
    {
     "data": {
      "image/png": "[encoded data removed]",
      "text/plain": [
       "<Figure size 720x504 with 1 Axes>"
      ]
     },
     "metadata": {
      "needs_background": "light"
     },
     "output_type": "display_data"
    }
   ],
   "source": [
    "plt.figure(figsize=(10,7))\n",
    "\n",
    "plt.plot(accuracy_list_sgld, label=\"SGLD\", marker=\"+\") # 5e-6\n",
    "plt.plot(accuracy_list_psgld, label=\"pSGLD\", marker=\">\") # 1e-3\n",
    "plt.plot(accuracy_list_sgldAdam, label=\"sgldAdam\", marker=\"o\") # 1e-2\n",
    "\n",
    "plt.legend(fontsize=16)\n",
    "plt.title(\"Test accuracy of SGMCMC samplers on MNIST with a CNN\")\n",
    "plt.xlabel(\"Iterations\", size=20)\n",
    "plt.ylabel(\"Test accuracy\", size=20)\n",
    "\n",
    "print(f\"sgld: {100*accuracy_list_sgld[-1]:.1f}%\")\n",
    "print(f\"psgld: {100*accuracy_list_psgld[-1]:.1f}%\")\n",
    "print(f\"sgldAdam: {100*accuracy_list_sgldAdam[-1]:.1f}%\")\n"
   ]
  }
 ],
 "metadata": {
  "kernelspec": {
   "display_name": "Python 3",
   "language": "python",
   "name": "python3"
  },
  "language_info": {
   "codemirror_mode": {
    "name": "ipython",
    "version": 3
   },
   "file_extension": ".py",
   "mimetype": "text/x-python",
   "name": "python",
   "nbconvert_exporter": "python",
   "pygments_lexer": "ipython3",
   "version": "3.8.2"
  }
 },
 "nbformat": 4,
 "nbformat_minor": 5
}
